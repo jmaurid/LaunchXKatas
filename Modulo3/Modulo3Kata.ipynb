{
 "cells": [
  {
   "cell_type": "markdown",
   "metadata": {},
   "source": [
    "# Ejercicios de la Kata"
   ]
  },
  {
   "cell_type": "markdown",
   "metadata": {},
   "source": [
    "Un asteroide se acerca y viaja a una velocidad de 49 km/s"
   ]
  },
  {
   "cell_type": "code",
   "execution_count": null,
   "metadata": {},
   "outputs": [
    {
     "name": "stdout",
     "output_type": "stream",
     "text": [
      "Advertencia: asteroide detectado.\n"
     ]
    }
   ],
   "source": [
    "velocidad = 49\n",
    "limite = 25\n",
    "if velocidad > limite:\n",
    "    print(\"Advertencia: asteroide detectado.\")"
   ]
  },
  {
   "cell_type": "markdown",
   "metadata": {},
   "source": [
    "Si un asteroide entra en la atmósfera de la Tierra a una velocidad mayor o igual a 20 km/s, a veces produce un rayo de luz que se puede ver desde la Tierra. Escribe la lógica condicional que usa declaraciones if, else, y elif para alertar a las personas de todo el mundo que deben buscar un asteroide en el cielo. ¡Hay uno que se dirige a la tierra ahora a una velocidad de 19 km/s!"
   ]
  },
  {
   "cell_type": "code",
   "execution_count": null,
   "metadata": {},
   "outputs": [
    {
     "name": "stdout",
     "output_type": "stream",
     "text": [
      "No será posible ver algo si miras al cielo. ):\n"
     ]
    }
   ],
   "source": [
    "velAsteroide = 19\n",
    "visible = 20\n",
    "if velAsteroide > visible:\n",
    "    print(\"Alerta: busca un asteroide en el cielo.\")\n",
    "elif velAsteroide == visible:\n",
    "    print(\"Alerta: Es posible que encuentres un asteroide en el cielo.\")\n",
    "else:\n",
    "    print(\"No será posible ver algo si miras al cielo. ):\")"
   ]
  },
  {
   "cell_type": "markdown",
   "metadata": {},
   "source": [
    "Si un asteroide entra en la atmósfera de la Tierra a una velocidad mayor o igual a 20 km/s, a veces produce un rayo de luz que se puede ver desde la Tierra. Escribe la lógica condicional que usa declaraciones if, else, y elif para alertar a las personas de todo el mundo que deben buscar un asteroide en el cielo. ¡Hay uno que se dirige a la tierra ahora a una velocidad de 19 km/s!"
   ]
  },
  {
   "cell_type": "code",
   "execution_count": 8,
   "metadata": {},
   "outputs": [
    {
     "name": "stdout",
     "output_type": "stream",
     "text": [
      "No hay nada que ver.\n"
     ]
    }
   ],
   "source": [
    "velAsteroide = 15\n",
    "tamAsteroide = 70\n",
    "\n",
    "if velAsteroide > 25 and tamAsteroide > 25:\n",
    "    print(\"¡ADVERTENCIA! Un asterioide peligroso ha sido detectado.\")\n",
    "elif velAsteroide > 25:\n",
    "    print(\"Alerta: Un asteriode ha sido detectado.\")\n",
    "elif velAsteroide >= 20 and velAsteroide <= 25:\n",
    "    print(\"Si miras al cielo, podrías ver un rayo de luz.\")\n",
    "else:\n",
    "    print(\"No hay nada que ver.\")"
   ]
  }
 ],
 "metadata": {
  "interpreter": {
   "hash": "916dbcbb3f70747c44a77c7bcd40155683ae19c65e1c03b4aa3499c5328201f1"
  },
  "kernelspec": {
   "display_name": "Python 3.8.10 64-bit",
   "language": "python",
   "name": "python3"
  },
  "language_info": {
   "codemirror_mode": {
    "name": "ipython",
    "version": 3
   },
   "file_extension": ".py",
   "mimetype": "text/x-python",
   "name": "python",
   "nbconvert_exporter": "python",
   "pygments_lexer": "ipython3",
   "version": "3.8.10"
  },
  "orig_nbformat": 4
 },
 "nbformat": 4,
 "nbformat_minor": 2
}
